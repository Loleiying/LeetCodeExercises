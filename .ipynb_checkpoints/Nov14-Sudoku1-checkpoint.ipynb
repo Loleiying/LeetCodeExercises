{
 "cells": [
  {
   "cell_type": "markdown",
   "metadata": {},
   "source": [
    "# Sudoku"
   ]
  },
  {
   "cell_type": "code",
   "execution_count": 1,
   "metadata": {},
   "outputs": [],
   "source": [
    "import sudoku"
   ]
  },
  {
   "cell_type": "code",
   "execution_count": 2,
   "metadata": {},
   "outputs": [
    {
     "name": "stdout",
     "output_type": "stream",
     "text": [
      "27\n",
      "[0, 1, 2, 3, 4, 5, 6, 7, 8]\n",
      "[9, 10, 11, 12, 13, 14, 15, 16, 17]\n"
     ]
    }
   ],
   "source": [
    "groups = sudoku.Architecture1()\n",
    "print(len(groups))\n",
    "print(groups[0])\n",
    "print(groups[1])"
   ]
  },
  {
   "cell_type": "code",
   "execution_count": 3,
   "metadata": {},
   "outputs": [
    {
     "name": "stdout",
     "output_type": "stream",
     "text": [
      "81\n",
      "[-1, [1, 2, 3, 4, 5, 6, 7, 8, 9]]\n",
      "[-1, [1, 2, 3, 4, 5, 6, 7, 8, 9]]\n"
     ]
    }
   ],
   "source": [
    "dct = sudoku.Puzzle1()\n",
    "print(len(dct))\n",
    "print(dct[0])\n",
    "print(dct[1])"
   ]
  },
  {
   "cell_type": "code",
   "execution_count": 4,
   "metadata": {},
   "outputs": [
    {
     "name": "stdout",
     "output_type": "stream",
     "text": [
      "6\n"
     ]
    }
   ],
   "source": [
    "ct = sudoku.Rule1(dct, groups)\n",
    "print(ct)"
   ]
  },
  {
   "cell_type": "code",
   "execution_count": 5,
   "metadata": {},
   "outputs": [
    {
     "name": "stdout",
     "output_type": "stream",
     "text": [
      "38\n"
     ]
    }
   ],
   "source": [
    "notsolved = sudoku.EndGame(dct)\n",
    "print(notsolved)"
   ]
  },
  {
   "cell_type": "code",
   "execution_count": 6,
   "metadata": {},
   "outputs": [
    {
     "name": "stdout",
     "output_type": "stream",
     "text": [
      "a [(7, 1), (24, 9), (20, 2), (20, 4), (24, 7), (51, 5), (0, 8), (66, 1), (66, 7), (14, 4), (14, 7), (7, 1), (44, 9), (20, 2), (14, 4), (14, 7), (7, 1), (24, 9), (66, 1), (66, 7)]\n",
      "Proxy 7 1 [-1, [1, 3, 8]]\n",
      "Proxy 24 9 [-1, [7, 9]]\n",
      "Proxy 20 2 [-1, [2, 4]]\n",
      "Proxy 20 4 [2, []]\n",
      "Proxy 24 7 [9, []]\n",
      "Proxy 51 5 [-1, [5, 6, 8, 9]]\n",
      "Proxy 0 8 [-1, [3, 8]]\n",
      "Proxy 66 1 [-1, [1, 7]]\n",
      "Proxy 66 7 [1, []]\n",
      "Proxy 14 4 [-1, [4, 7]]\n",
      "Proxy 14 7 [4, []]\n",
      "Proxy 7 1 [1, []]\n",
      "Proxy 44 9 [-1, [3, 4, 5, 6, 9]]\n",
      "Proxy 20 2 [4, []]\n",
      "Proxy 14 4 [7, []]\n",
      "Proxy 14 7 [4, []]\n",
      "Proxy 7 1 [1, []]\n",
      "Proxy 24 9 [7, []]\n",
      "Proxy 66 1 [7, []]\n",
      "Proxy 66 7 [1, []]\n",
      "30\n"
     ]
    }
   ],
   "source": [
    "sudoku.Rule2(dct, groups)\n",
    "notsolved = sudoku.EndGame(dct)\n",
    "print(notsolved)"
   ]
  },
  {
   "cell_type": "code",
   "execution_count": 7,
   "metadata": {},
   "outputs": [
    {
     "name": "stdout",
     "output_type": "stream",
     "text": [
      "a [(7, 1), (51, 5), (54, 7), (0, 8), (7, 1), (79, 7), (8, 5), (62, 6), (7, 1), (51, 5), (79, 7)]\n",
      "Proxy 7 1 [-1, [1, 3, 8]]\n",
      "Proxy 51 5 [-1, [5, 6, 8, 9]]\n",
      "Proxy 54 7 [-1, [1, 3, 7]]\n",
      "Proxy 0 8 [-1, [3, 8]]\n",
      "Proxy 7 1 [1, []]\n",
      "Proxy 79 7 [-1, [2, 3, 4, 7]]\n",
      "Proxy 8 5 [-1, [3, 5]]\n",
      "Proxy 62 6 [-1, [3, 6]]\n",
      "Proxy 7 1 [1, []]\n",
      "Proxy 51 5 [5, []]\n",
      "Proxy 79 7 [7, []]\n",
      "8 3 7 9 6 2 4 1 5 \n",
      "9 5 6 7 1 4 8 3 2 \n",
      "2 1 4 8 5 3 7 6 9 \n",
      "5 8 3 4 7 9 6 2 1 \n",
      "1 7 2 5 8 6 9 4 3 \n",
      "4 6 9 3 2 1 5 8 7 \n",
      "7 9 1 2 4 8 3 5 6 \n",
      "6 4 5 1 3 7 2 9 8 \n",
      "3 2 8 6 9 5 1 7 4 \n"
     ]
    }
   ],
   "source": [
    "groups = sudoku.Architecture1()\n",
    "dct = sudoku.Puzzle1()\n",
    "sudoku.Sudoku(dct, groups)"
   ]
  },
  {
   "cell_type": "code",
   "execution_count": 8,
   "metadata": {},
   "outputs": [
    {
     "ename": "AttributeError",
     "evalue": "module 'sudoku' has no attribute 'Puzzle163'",
     "output_type": "error",
     "traceback": [
      "\u001b[1;31m---------------------------------------------------------------------------\u001b[0m",
      "\u001b[1;31mAttributeError\u001b[0m                            Traceback (most recent call last)",
      "\u001b[1;32m<ipython-input-8-19f827417d44>\u001b[0m in \u001b[0;36m<module>\u001b[1;34m\u001b[0m\n\u001b[0;32m      1\u001b[0m \u001b[1;32mimport\u001b[0m \u001b[0msudoku\u001b[0m\u001b[1;33m\u001b[0m\u001b[1;33m\u001b[0m\u001b[0m\n\u001b[0;32m      2\u001b[0m \u001b[0mgroups\u001b[0m \u001b[1;33m=\u001b[0m \u001b[0msudoku\u001b[0m\u001b[1;33m.\u001b[0m\u001b[0mArchitecture1\u001b[0m\u001b[1;33m(\u001b[0m\u001b[1;33m)\u001b[0m\u001b[1;33m\u001b[0m\u001b[1;33m\u001b[0m\u001b[0m\n\u001b[1;32m----> 3\u001b[1;33m \u001b[0mdct\u001b[0m \u001b[1;33m=\u001b[0m \u001b[0msudoku\u001b[0m\u001b[1;33m.\u001b[0m\u001b[0mPuzzle163\u001b[0m\u001b[1;33m(\u001b[0m\u001b[1;33m)\u001b[0m\u001b[1;33m\u001b[0m\u001b[1;33m\u001b[0m\u001b[0m\n\u001b[0m\u001b[0;32m      4\u001b[0m \u001b[0msudoku\u001b[0m\u001b[1;33m.\u001b[0m\u001b[0mSudoku\u001b[0m\u001b[1;33m(\u001b[0m\u001b[0mdct\u001b[0m\u001b[1;33m,\u001b[0m \u001b[0mgroups\u001b[0m\u001b[1;33m)\u001b[0m\u001b[1;33m\u001b[0m\u001b[1;33m\u001b[0m\u001b[0m\n",
      "\u001b[1;31mAttributeError\u001b[0m: module 'sudoku' has no attribute 'Puzzle163'"
     ]
    }
   ],
   "source": [
    "import sudoku\n",
    "groups = sudoku.Architecture1()\n",
    "dct = sudoku.Puzzle163()\n",
    "sudoku.Sudoku(dct, groups)"
   ]
  },
  {
   "cell_type": "code",
   "execution_count": null,
   "metadata": {},
   "outputs": [],
   "source": []
  }
 ],
 "metadata": {
  "kernelspec": {
   "display_name": "Python 3",
   "language": "python",
   "name": "python3"
  },
  "language_info": {
   "codemirror_mode": {
    "name": "ipython",
    "version": 3
   },
   "file_extension": ".py",
   "mimetype": "text/x-python",
   "name": "python",
   "nbconvert_exporter": "python",
   "pygments_lexer": "ipython3",
   "version": "3.7.9"
  }
 },
 "nbformat": 4,
 "nbformat_minor": 2
}
