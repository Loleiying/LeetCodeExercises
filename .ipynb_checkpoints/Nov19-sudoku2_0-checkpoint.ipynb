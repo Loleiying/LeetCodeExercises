{
 "cells": [
  {
   "cell_type": "markdown",
   "metadata": {},
   "source": [
    "# Nov 19 Sudoku 2\n",
    "How do you make a puzzle?"
   ]
  },
  {
   "cell_type": "markdown",
   "metadata": {},
   "source": [
    "1. Start with a known solution.\n",
    "1. Remove one cell at random.\n",
    "1. Solve (This should solve)"
   ]
  },
  {
   "cell_type": "raw",
   "metadata": {},
   "source": [
    "8 3 7 9 6 2 4 1 5 \n",
    "9 5 6 7 1 4 8 3 2 \n",
    "2 1 4 8 5 3 7 6 9 \n",
    "5 8 3 4 7 9 6 2 1 \n",
    "1 7 2 5 8 6 9 4 3 \n",
    "4 6 9 3 2 1 5 8 7 \n",
    "7 9 1 2 4 8 3 5 6 \n",
    "6 4 5 1 3 7 2 9 8 \n",
    "3 2 8 6 9 5 1 7 4 "
   ]
  },
  {
   "cell_type": "markdown",
   "metadata": {},
   "source": [
    "## 5 randoms\n",
    "Repeat but this time remove five cells at random.\n",
    "\n",
    "It should still solve.\n"
   ]
  },
  {
   "cell_type": "code",
   "execution_count": 7,
   "metadata": {},
   "outputs": [],
   "source": [
    "#import sys\n",
    "#sys.path.append('../../pysrc/')\n",
    "#sys.path.append('/home/jkinser/courses/CDS411/pysrc/')\n",
    "import sudoku\n",
    "import numpy as np"
   ]
  },
  {
   "cell_type": "code",
   "execution_count": 4,
   "metadata": {},
   "outputs": [],
   "source": [
    "def PuzzleSolved():\n",
    "    mat = np.array( (\n",
    "        (8,3,7,9,6,2,4,1,5),\n",
    "        (9,5,6,7,1,4,8,3,2),\n",
    "        (2,1,4,8,5,3,7,6,9),\n",
    "        (5,8,3,4,7,9,6,2,1),\n",
    "        (1,7,2,5,8,6,9,4,3),\n",
    "        (4,6,9,3,2,1,5,8,7),\n",
    "        (7,9,1,2,4,8,3,5,6),\n",
    "        (6,4,5,1,3,7,2,9,8),\n",
    "        (3,2,8,6,9,5,1,7,4)))\n",
    "    dct = sudoku.ConvertMat(mat)\n",
    "    return dct      "
   ]
  },
  {
   "cell_type": "code",
   "execution_count": null,
   "metadata": {},
   "outputs": [],
   "source": [
    "dct = PuzzleSolved()"
   ]
  },
  {
   "cell_type": "code",
   "execution_count": null,
   "metadata": {},
   "outputs": [],
   "source": [
    "# remove one at random.\n",
    "groups = sudoku.Architecture1()\n",
    "r = np.random.randint(0,81)\n",
    "print(r)\n",
    "dct[29] = [-1,[1,2,3,4,5,6,7,8,9]]\n",
    "sudoku.Sudoku(dct,groups)"
   ]
  },
  {
   "cell_type": "code",
   "execution_count": null,
   "metadata": {},
   "outputs": [],
   "source": [
    "# remove 5 numbers in the sudoku and solve the puzzle\n",
    "dct = PuzzleSolved()\n",
    "groups = sudoku.Architecture1()\n",
    "t = np.linspace(0,80,81).astype(int)\n",
    "np.random.shuffle(t)\n",
    "print(t[:5])\n",
    "for i in t[:5]:\n",
    "    dct[i] = [-1,[1,2,3,4,5,6,7,8,9]]\n",
    "sudoku.Sudoku(dct,groups)"
   ]
  },
  {
   "cell_type": "markdown",
   "metadata": {},
   "source": [
    "## Remove 75"
   ]
  },
  {
   "cell_type": "code",
   "execution_count": null,
   "metadata": {},
   "outputs": [],
   "source": [
    "dct = PuzzleSolved()\n",
    "groups = sudoku.Architecture1()\n",
    "t = np.linspace(0,80,81).astype(int)\n",
    "np.random.shuffle(t)\n",
    "for i in t[:75]:\n",
    "    dct[i] = [-1,[1,2,3,4,5,6,7,8,9]]\n",
    "sudoku.Sudoku(dct,groups)"
   ]
  },
  {
   "cell_type": "markdown",
   "metadata": {},
   "source": [
    "It does __not__ solve.  Too many cells were removed."
   ]
  },
  {
   "cell_type": "markdown",
   "metadata": {},
   "source": [
    "## Find a Puzzle\n",
    "Your task is to run this process several times.  Each time remove a different number of cells.  (Think automation.)\n",
    "\n",
    "Find a puzzle:\n",
    "1. That solves\n",
    "1. That has the most cells removed."
   ]
  },
  {
   "cell_type": "code",
   "execution_count": null,
   "metadata": {},
   "outputs": [],
   "source": [
    "# modified sudoku function\n",
    "import sudoku\n",
    "def Sudoku2(dct,groups):\n",
    "    ok = True\n",
    "    while ok:\n",
    "        end1 = EndGame(dct)\n",
    "        Rule1( dct, groups )\n",
    "        #ct = FindSolos(dct)\n",
    "        #print('a',end1)\n",
    "        end2 = EndGame(dct)\n",
    "        if end2 == 0:\n",
    "            break # you win\n",
    "        if end1==end2:\n",
    "            hits=Rule2(dct,groups)\n",
    "            #GoSingle(hits,dct)\n",
    "            end3 = EndGame(dct)\n",
    "            #print('b',end2)\n",
    "            if end1==end3:\n",
    "                break\n",
    "    PrintSolution(dct)"
   ]
  },
  {
   "cell_type": "code",
   "execution_count": 11,
   "metadata": {},
   "outputs": [
    {
     "name": "stdout",
     "output_type": "stream",
     "text": [
      "Solved 5Solved 6Solved 7Solved 8Solved 9Solved 10Solved 11Solved 12Solved 13Solved 14Solved 15Solved 16Solved 17Solved 18Solved 19Solved 20Solved 21Solved 22Solved 23Solved 24Solved 25Solved 26Solved 27Solved 28Solved 29Solved 30Solved 31Solved 32Solved 33Solved 34Solved 35Solved 36Solved 37Solved 38Solved 39Solved 40Solved 41Solved 42Solved 43Solved 44Solved 45Solved 46Solved 47Solved 48Solved 49Solved 50Solved 51Solved 52Solved 53Solved 54Solved 55Solved 56Solved 57Solved 58Solved 59Solved 60Solved 61Solved 62Solved 63Solved 64Solved 65Solved 66Solved 67Solved 68Solved 69Solved 70Solved 71Solved 72Solved 73Solved 74"
     ]
    }
   ],
   "source": [
    "import importlib\n",
    "importlib.reload(sudoku)\n",
    "dct = PuzzleSolved()\n",
    "groups = sudoku.Architecture1()\n",
    "t = np.linspace(0,80,81).astype(int)\n",
    "np.random.shuffle(t)\n",
    "for j in range(5,75):\n",
    "    for i in t[:j]:\n",
    "        dct[i] = [-1,[1,2,3,4,5,6,7,8,9]]\n",
    "        sudoku.Sudoku(dct, groups, False)\n",
    "    if sudoku.EndGame(dct)==0:\n",
    "        print(\"Solved\", j, end='')"
   ]
  },
  {
   "cell_type": "code",
   "execution_count": null,
   "metadata": {},
   "outputs": [],
   "source": []
  },
  {
   "cell_type": "markdown",
   "metadata": {},
   "source": [
    "## New Solution\n",
    "You can create a new solution from a known solution by\n",
    "* Swapping numbers\n",
    "* Flipping puzzle horizontally and/or vertically\n",
    "* Rotating puzzle 90, 180, 270 degrees\n",
    "* Swapping rows (as long as they are in the same blocks)\n",
    "* Swapping columns (as long as they are in the same blocks)\n",
    "\n",
    "Create a new puzzle by modifying a known solution."
   ]
  },
  {
   "cell_type": "code",
   "execution_count": 13,
   "metadata": {},
   "outputs": [
    {
     "name": "stdout",
     "output_type": "stream",
     "text": [
      "8 3 7 9 6 2 4 1 5 \n",
      "9 5 6 7 1 4 8 3 2 \n",
      "2 1 4 8 5 3 7 6 9 \n",
      "5 8 3 4 7 9 6 2 1 \n",
      "1 7 2 5 8 6 9 4 3 \n",
      "4 6 9 3 2 1 5 8 7 \n",
      "7 9 1 2 4 8 3 5 6 \n",
      "6 4 5 1 3 7 2 9 8 \n",
      "3 2 8 6 9 5 1 7 4 \n",
      "\n",
      "8 7 3 9 6 2 4 1 5 \n",
      "9 5 6 3 1 4 8 7 2 \n",
      "2 1 4 8 5 7 3 6 9 \n",
      "5 8 7 4 3 9 6 2 1 \n",
      "1 3 2 5 8 6 9 4 7 \n",
      "4 6 9 7 2 1 5 8 3 \n",
      "3 9 1 2 4 8 7 5 6 \n",
      "6 4 5 1 7 3 2 9 8 \n",
      "7 2 8 6 9 5 1 3 4 \n"
     ]
    }
   ],
   "source": [
    "# SWAP\n",
    "n1 = 3; n2 = 7 # number to be swapped\n",
    "dct = PuzzleSolved()\n",
    "sudoku.PrintSolution(dct)\n",
    "print('')\n",
    "groups = sudoku.Architecture1()\n",
    "for i in range(81):\n",
    "    if dct[i][0] == n1:\n",
    "        dct[i][0] = -2\n",
    "for i in range(81):\n",
    "    if dct[i][0] == n2:\n",
    "        dct[i][0] = n1\n",
    "for i in range(81):\n",
    "    if dct[i][0] == -2:\n",
    "        dct[i][0] = n2\n",
    "sudoku.PrintSolution(dct)"
   ]
  },
  {
   "cell_type": "code",
   "execution_count": 16,
   "metadata": {},
   "outputs": [
    {
     "name": "stdout",
     "output_type": "stream",
     "text": [
      "5 1 4 2 6 9 3 7 8 \n",
      "2 7 8 4 1 3 6 5 9 \n",
      "9 6 3 7 5 8 4 1 2 \n",
      "1 2 6 9 3 4 7 8 5 \n",
      "7 4 9 6 8 5 2 3 1 \n",
      "3 8 5 1 2 7 9 6 4 \n",
      "6 5 7 8 4 2 1 9 3 \n",
      "8 9 2 3 7 1 5 4 6 \n",
      "4 3 1 5 9 6 8 2 7 \n"
     ]
    }
   ],
   "source": [
    "# FLIP\n",
    "# filping the rows and columns in the matrix using numpy\n",
    "mat = np.zeros((9,9), int)\n",
    "#put numbers in matrix\n",
    "k = 0\n",
    "for i in range(9):\n",
    "    for j in range(9):\n",
    "        mat[i,j] = dct[k][0]\n",
    "        k += 1\n",
    "# filp it\n",
    "mat = np.fliplr(mat)\n",
    "# put the numbers back into the puzzle\n",
    "k = 0\n",
    "for i in range(9):\n",
    "    for j in range(9):\n",
    "        dct[k][0] = mat[i,j]\n",
    "        k += 1\n",
    "sudoku.PrintSolution(dct)"
   ]
  },
  {
   "cell_type": "code",
   "execution_count": 17,
   "metadata": {},
   "outputs": [
    {
     "name": "stdout",
     "output_type": "stream",
     "text": [
      "8 9 2 5 1 4 3 6 7 \n",
      "7 5 1 8 3 6 9 4 2 \n",
      "3 6 4 7 2 9 1 5 8 \n",
      "9 3 8 4 5 7 2 1 6 \n",
      "6 1 5 3 8 2 4 7 9 \n",
      "2 4 7 9 6 1 8 3 5 \n",
      "4 8 3 6 9 5 7 2 1 \n",
      "1 7 6 2 4 8 5 9 3 \n",
      "5 2 9 1 7 3 6 8 4 \n"
     ]
    }
   ],
   "source": [
    "# ROTATE\n",
    "mat = np.zeros((9,9), int)\n",
    "#put numbers in matrix\n",
    "k = 0\n",
    "for i in range(9):\n",
    "    for j in range(9):\n",
    "        mat[i,j] = dct[k][0]\n",
    "        k += 1\n",
    "# filp it\n",
    "mat = np.rot90(mat) # 180, 270\n",
    "# put the numbers back into the puzzle\n",
    "k = 0\n",
    "for i in range(9):\n",
    "    for j in range(9):\n",
    "        dct[k][0] = mat[i,j]\n",
    "        k += 1\n",
    "sudoku.PrintSolution(dct)"
   ]
  },
  {
   "cell_type": "code",
   "execution_count": 18,
   "metadata": {},
   "outputs": [
    {
     "name": "stdout",
     "output_type": "stream",
     "text": [
      "3 6 4 7 2 9 1 5 8 \n",
      "7 5 1 8 3 6 9 4 2 \n",
      "8 9 2 5 1 4 3 6 7 \n",
      "9 3 8 4 5 7 2 1 6 \n",
      "6 1 5 3 8 2 4 7 9 \n",
      "2 4 7 9 6 1 8 3 5 \n",
      "4 8 3 6 9 5 7 2 1 \n",
      "1 7 6 2 4 8 5 9 3 \n",
      "5 2 9 1 7 3 6 8 4 \n"
     ]
    }
   ],
   "source": [
    "# Swapping rows (as long as they are in the same blocks)\n",
    "mat = np.zeros((9,9), int)\n",
    "#put numbers in matrix\n",
    "k = 0\n",
    "for i in range(9):\n",
    "    for j in range(9):\n",
    "        mat[i,j] = dct[k][0]\n",
    "        k += 1\n",
    "\n",
    "# swap the rows\n",
    "row1 = 0; row2 = 2\n",
    "temp = mat[row1]+0\n",
    "mat[row1] = mat[row2]+0\n",
    "mat[row2] = temp+0\n",
    "\n",
    "# put the numbers back into the puzzle\n",
    "k = 0\n",
    "for i in range(9):\n",
    "    for j in range(9):\n",
    "        dct[k][0] = mat[i,j]\n",
    "        k += 1\n",
    "sudoku.PrintSolution(dct)"
   ]
  },
  {
   "cell_type": "code",
   "execution_count": 19,
   "metadata": {},
   "outputs": [
    {
     "name": "stdout",
     "output_type": "stream",
     "text": [
      "8 9 2 5 1 4 3 6 7 \n",
      "9 3 8 4 5 7 2 1 6 \n",
      "3 6 4 7 2 9 1 5 8 \n",
      "3 6 4 7 2 9 1 5 8 \n",
      "3 6 4 7 2 9 1 5 8 \n",
      "2 4 7 9 6 1 8 3 5 \n",
      "4 8 3 6 9 5 7 2 1 \n",
      "1 7 6 2 4 8 5 9 3 \n",
      "5 2 9 1 7 3 6 8 4 \n"
     ]
    }
   ],
   "source": [
    "# Swapping columns (as long as they are in the same blocks)\n",
    "# Swapping rows (as long as they are in the same blocks)\n",
    "mat = np.zeros((9,9), int)\n",
    "#put numbers in matrix\n",
    "k = 0\n",
    "for i in range(9):\n",
    "    for j in range(9):\n",
    "        mat[i,j] = dct[k][0]\n",
    "        k += 1\n",
    "\n",
    "# swap the columns\n",
    "brow1 = 0; brow2 = 2\n",
    "temp = mat[brow1]+0\n",
    "mat[brow1:brow1+3] = mat[brow2:brow2+3]+0\n",
    "mat[brow2:brow2+3] = temp+0\n",
    "\n",
    "# put the numbers back into the puzzle\n",
    "k = 0\n",
    "for i in range(9):\n",
    "    for j in range(9):\n",
    "        dct[k][0] = mat[i,j]\n",
    "        k += 1\n",
    "sudoku.PrintSolution(dct)"
   ]
  },
  {
   "cell_type": "code",
   "execution_count": null,
   "metadata": {},
   "outputs": [],
   "source": [
    "# create a solved puzzle\n"
   ]
  }
 ],
 "metadata": {
  "kernelspec": {
   "display_name": "Python 3",
   "language": "python",
   "name": "python3"
  },
  "language_info": {
   "codemirror_mode": {
    "name": "ipython",
    "version": 3
   },
   "file_extension": ".py",
   "mimetype": "text/x-python",
   "name": "python",
   "nbconvert_exporter": "python",
   "pygments_lexer": "ipython3",
   "version": "3.7.9"
  }
 },
 "nbformat": 4,
 "nbformat_minor": 2
}
